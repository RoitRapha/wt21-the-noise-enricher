{
 "cells": [
  {
   "cell_type": "markdown",
   "id": "01562335",
   "metadata": {},
   "source": [
    "# classifying music styles"
   ]
  },
  {
   "cell_type": "code",
   "execution_count": 31,
   "id": "22dda4c5",
   "metadata": {},
   "outputs": [],
   "source": [
    "import os\n",
    "import numpy as np\n",
    "import pandas as pd\n",
    "import torch, torchaudio\n",
    "from pydub import AudioSegment"
   ]
  },
  {
   "cell_type": "markdown",
   "id": "8c2c6fa2",
   "metadata": {},
   "source": [
    "## preparations\n",
    "\n",
    "download GTZAN dataset before: http://marsyas.info/downloads/datasets.html#"
   ]
  },
  {
   "cell_type": "code",
   "execution_count": 32,
   "id": "2456d159",
   "metadata": {},
   "outputs": [],
   "source": [
    "# path to local project folder\n",
    "root_path = '/home/christian/Documents/sound_classifier'\n",
    "\n",
    "# path to root wav folder (that with the genres subfolders)\n",
    "wavfoldrs = 'genres_original'\n",
    "\n",
    "# dictionary of all genres with tracks\n",
    "genres = os.listdir(os.path.join(root_path, wavfoldrs))\n",
    "tracks = {x:os.listdir(os.path.join(root_path, wavfoldrs, x)) for x in genres}\n",
    "\n",
    "# setting size of audio snipplets in ms\n",
    "chunk_size = 3000"
   ]
  },
  {
   "cell_type": "markdown",
   "id": "8f7a40bc",
   "metadata": {},
   "source": [
    "## split into chunks of 3 seconds"
   ]
  },
  {
   "cell_type": "code",
   "execution_count": 33,
   "id": "9daa304b",
   "metadata": {},
   "outputs": [],
   "source": [
    "error = []\n",
    "\n",
    "os.mkdir(os.path.join(root_path, 'audio_chunks'))\n",
    "\n",
    "for genre in genres:\n",
    "    os.mkdir(os.path.join(root_path, 'audio_chunks', genre))\n",
    "    for counttrack, file in enumerate(tracks[genre]):\n",
    "        try: \n",
    "            audio = AudioSegment.from_wav(os.path.join(root_path, wavfoldrs, genre, file))\n",
    "            audio_length = round((audio.duration_seconds * 1000), 0)\n",
    "\n",
    "            chunk_nmbr = audio_length//chunk_size\n",
    "            chunk_pcs  = np.arange(0, chunk_nmbr+1)*chunk_size\n",
    "\n",
    "            for countfile, i in enumerate(range(len(chunk_pcs)-1)):\n",
    "                outfile = root_path + '/audio_chunks/' + genre + '/' + genre + '_' + str(counttrack) + '_' + str(countfile) + '.wav'\n",
    "                audio[chunk_pcs[i]:chunk_pcs[i+1]].export(outfile, format='wav')\n",
    "        except:\n",
    "            error.append(file)"
   ]
  },
  {
   "cell_type": "markdown",
   "id": "cfe75b4b",
   "metadata": {},
   "source": [
    "## create spectrograms\n",
    "\n",
    "Those are simple spectrograms. we can use MEL spectrograms later by changing the torchaudio.transforms class"
   ]
  },
  {
   "cell_type": "code",
   "execution_count": 34,
   "id": "d143d67e",
   "metadata": {},
   "outputs": [],
   "source": [
    "trans_spec = torchaudio.transforms.Spectrogram(n_fft=800, power=None, return_complex=True)\n",
    "\n",
    "os.mkdir(os.path.join(root_path, 'spectrograms'))\n",
    "for genre in genres:\n",
    "    path = os.path.join(root_path, 'spectrograms', genre)\n",
    "    os.mkdir(path)\n",
    "    chunks = os.listdir(os.path.join(root_path, 'audio_chunks', genre))\n",
    "    \n",
    "    for chunk in chunks:\n",
    "        path_to_file = os.path.join(root_path, 'audio_chunks', genre, chunk)\n",
    "        waveform, sr_input = torchaudio.load(path_to_file)\n",
    "        spec = trans_spec(waveform)\n",
    "        outfile = str(os.path.join(root_path, 'spectrograms', genre)) + '/' + chunk[:-4] + '.pt'\n",
    "        torch.save(spec, outfile)"
   ]
  },
  {
   "cell_type": "markdown",
   "id": "c5770473",
   "metadata": {},
   "source": [
    "## create dataset .csv file for dataloader"
   ]
  },
  {
   "cell_type": "code",
   "execution_count": 35,
   "id": "21557192",
   "metadata": {},
   "outputs": [],
   "source": [
    "dx = []\n",
    "\n",
    "for genre_no, genre in enumerate(genres):\n",
    "    filenames = os.listdir(os.path.join(root_path, 'audio_chunks', genre))\n",
    "    for file in filenames:\n",
    "        dx.append([str('spectrograms/'+genre+'/'+file), genre_no])\n",
    "\n",
    "pd.DataFrame(dx, columns=['file', 'category']).to_csv(os.path.join(root_path, 'dataset_files.csv'), index=None)"
   ]
  }
 ],
 "metadata": {
  "kernelspec": {
   "display_name": "Python 3 (ipykernel)",
   "language": "python",
   "name": "python3"
  },
  "language_info": {
   "codemirror_mode": {
    "name": "ipython",
    "version": 3
   },
   "file_extension": ".py",
   "mimetype": "text/x-python",
   "name": "python",
   "nbconvert_exporter": "python",
   "pygments_lexer": "ipython3",
   "version": "3.9.7"
  }
 },
 "nbformat": 4,
 "nbformat_minor": 5
}
